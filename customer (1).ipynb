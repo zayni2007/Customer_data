{
 "cells": [
  {
   "cell_type": "code",
   "execution_count": 82,
   "id": "36d53a55-5815-49f8-a142-8754a5769f89",
   "metadata": {},
   "outputs": [],
   "source": [
    "import pandas as pd"
   ]
  },
  {
   "cell_type": "code",
   "execution_count": 83,
   "id": "0fcdcc29-2712-40d2-afe9-1de3ccd5c5f8",
   "metadata": {},
   "outputs": [],
   "source": [
    "data=pd.read_csv(\"Customer.csv\")"
   ]
  },
  {
   "cell_type": "code",
   "execution_count": 84,
   "id": "0f5272e3-727e-4e83-a032-57f2191c9bfe",
   "metadata": {},
   "outputs": [
    {
     "data": {
      "text/html": [
       "<div>\n",
       "<style scoped>\n",
       "    .dataframe tbody tr th:only-of-type {\n",
       "        vertical-align: middle;\n",
       "    }\n",
       "\n",
       "    .dataframe tbody tr th {\n",
       "        vertical-align: top;\n",
       "    }\n",
       "\n",
       "    .dataframe thead th {\n",
       "        text-align: right;\n",
       "    }\n",
       "</style>\n",
       "<table border=\"1\" class=\"dataframe\">\n",
       "  <thead>\n",
       "    <tr style=\"text-align: right;\">\n",
       "      <th></th>\n",
       "      <th>CustomerID</th>\n",
       "      <th>Gender</th>\n",
       "      <th>Age</th>\n",
       "      <th>Items Purchased</th>\n",
       "      <th>Category</th>\n",
       "      <th>Purchase Amount</th>\n",
       "      <th>Shipping Type</th>\n",
       "      <th>Profession</th>\n",
       "      <th>Subscription Status</th>\n",
       "      <th>Season</th>\n",
       "      <th>Country</th>\n",
       "    </tr>\n",
       "  </thead>\n",
       "  <tbody>\n",
       "    <tr>\n",
       "      <th>0</th>\n",
       "      <td>1</td>\n",
       "      <td>Male</td>\n",
       "      <td>18</td>\n",
       "      <td>Blouse</td>\n",
       "      <td>Clothing</td>\n",
       "      <td>50</td>\n",
       "      <td>Express</td>\n",
       "      <td>Healthcare</td>\n",
       "      <td>Yes</td>\n",
       "      <td>Spring</td>\n",
       "      <td>United States</td>\n",
       "    </tr>\n",
       "    <tr>\n",
       "      <th>1</th>\n",
       "      <td>2</td>\n",
       "      <td>Male</td>\n",
       "      <td>20</td>\n",
       "      <td>Sweater</td>\n",
       "      <td>Clothing</td>\n",
       "      <td>25</td>\n",
       "      <td>Free Shipping</td>\n",
       "      <td>Engineer</td>\n",
       "      <td>No</td>\n",
       "      <td>Summer</td>\n",
       "      <td>United States</td>\n",
       "    </tr>\n",
       "    <tr>\n",
       "      <th>2</th>\n",
       "      <td>3</td>\n",
       "      <td>Female</td>\n",
       "      <td>35</td>\n",
       "      <td>Jeans</td>\n",
       "      <td>Clothing</td>\n",
       "      <td>15</td>\n",
       "      <td>Next Day Air</td>\n",
       "      <td>Engineer</td>\n",
       "      <td>Yes</td>\n",
       "      <td>Fall</td>\n",
       "      <td>United States</td>\n",
       "    </tr>\n",
       "    <tr>\n",
       "      <th>3</th>\n",
       "      <td>4</td>\n",
       "      <td>Female</td>\n",
       "      <td>45</td>\n",
       "      <td>Sandals</td>\n",
       "      <td>Footwear</td>\n",
       "      <td>69</td>\n",
       "      <td>2-Day Shipping</td>\n",
       "      <td>Lawyer</td>\n",
       "      <td>No</td>\n",
       "      <td>Winter</td>\n",
       "      <td>United States</td>\n",
       "    </tr>\n",
       "    <tr>\n",
       "      <th>4</th>\n",
       "      <td>5</td>\n",
       "      <td>Female</td>\n",
       "      <td>60</td>\n",
       "      <td>Blouse</td>\n",
       "      <td>Clothing</td>\n",
       "      <td>85</td>\n",
       "      <td>2-Day Shipping</td>\n",
       "      <td>Entertainment</td>\n",
       "      <td>Yes</td>\n",
       "      <td>Winter</td>\n",
       "      <td>United States</td>\n",
       "    </tr>\n",
       "  </tbody>\n",
       "</table>\n",
       "</div>"
      ],
      "text/plain": [
       "   CustomerID  Gender  Age Items Purchased  Category  Purchase Amount  \\\n",
       "0           1    Male   18          Blouse  Clothing               50   \n",
       "1           2    Male   20         Sweater  Clothing               25   \n",
       "2           3  Female   35           Jeans  Clothing               15   \n",
       "3           4  Female   45         Sandals  Footwear               69   \n",
       "4           5  Female   60          Blouse  Clothing               85   \n",
       "\n",
       "    Shipping Type     Profession Subscription Status  Season        Country  \n",
       "0         Express     Healthcare                 Yes  Spring  United States  \n",
       "1   Free Shipping       Engineer                  No  Summer  United States  \n",
       "2    Next Day Air       Engineer                 Yes    Fall  United States  \n",
       "3  2-Day Shipping         Lawyer                  No  Winter  United States  \n",
       "4  2-Day Shipping  Entertainment                 Yes  Winter  United States  "
      ]
     },
     "execution_count": 84,
     "metadata": {},
     "output_type": "execute_result"
    }
   ],
   "source": [
    "data.head()"
   ]
  },
  {
   "cell_type": "code",
   "execution_count": 85,
   "id": "c1abc0ab-c2fb-4ff9-9677-97de06065357",
   "metadata": {},
   "outputs": [
    {
     "data": {
      "text/html": [
       "<div>\n",
       "<style scoped>\n",
       "    .dataframe tbody tr th:only-of-type {\n",
       "        vertical-align: middle;\n",
       "    }\n",
       "\n",
       "    .dataframe tbody tr th {\n",
       "        vertical-align: top;\n",
       "    }\n",
       "\n",
       "    .dataframe thead th {\n",
       "        text-align: right;\n",
       "    }\n",
       "</style>\n",
       "<table border=\"1\" class=\"dataframe\">\n",
       "  <thead>\n",
       "    <tr style=\"text-align: right;\">\n",
       "      <th></th>\n",
       "      <th>CustomerID</th>\n",
       "      <th>Gender</th>\n",
       "      <th>Age</th>\n",
       "      <th>Items Purchased</th>\n",
       "      <th>Category</th>\n",
       "      <th>Purchase Amount</th>\n",
       "      <th>Shipping Type</th>\n",
       "      <th>Profession</th>\n",
       "      <th>Subscription Status</th>\n",
       "      <th>Season</th>\n",
       "      <th>Country</th>\n",
       "    </tr>\n",
       "  </thead>\n",
       "  <tbody>\n",
       "    <tr>\n",
       "      <th>2000</th>\n",
       "      <td>1996</td>\n",
       "      <td>Female</td>\n",
       "      <td>22</td>\n",
       "      <td>Boots</td>\n",
       "      <td>Footwear</td>\n",
       "      <td>45</td>\n",
       "      <td>Express</td>\n",
       "      <td>Artist</td>\n",
       "      <td>Yes</td>\n",
       "      <td>Summer</td>\n",
       "      <td>United States</td>\n",
       "    </tr>\n",
       "    <tr>\n",
       "      <th>2001</th>\n",
       "      <td>1997</td>\n",
       "      <td>Female</td>\n",
       "      <td>22</td>\n",
       "      <td>Boots</td>\n",
       "      <td>Footwear</td>\n",
       "      <td>77</td>\n",
       "      <td>Free Shipping</td>\n",
       "      <td>Doctor</td>\n",
       "      <td>Yes</td>\n",
       "      <td>Summer</td>\n",
       "      <td>Brazil</td>\n",
       "    </tr>\n",
       "    <tr>\n",
       "      <th>2002</th>\n",
       "      <td>1998</td>\n",
       "      <td>Male</td>\n",
       "      <td>22</td>\n",
       "      <td>Boots</td>\n",
       "      <td>Footwear</td>\n",
       "      <td>50</td>\n",
       "      <td>Next Day Air</td>\n",
       "      <td>Healthcare</td>\n",
       "      <td>Yes</td>\n",
       "      <td>Summer</td>\n",
       "      <td>United States</td>\n",
       "    </tr>\n",
       "    <tr>\n",
       "      <th>2003</th>\n",
       "      <td>1999</td>\n",
       "      <td>Male</td>\n",
       "      <td>22</td>\n",
       "      <td>Boots</td>\n",
       "      <td>Footwear</td>\n",
       "      <td>25</td>\n",
       "      <td>Express</td>\n",
       "      <td>Executive</td>\n",
       "      <td>Yes</td>\n",
       "      <td>Summer</td>\n",
       "      <td>Brazil</td>\n",
       "    </tr>\n",
       "    <tr>\n",
       "      <th>2004</th>\n",
       "      <td>2000</td>\n",
       "      <td>Male</td>\n",
       "      <td>22</td>\n",
       "      <td>Boots</td>\n",
       "      <td>Footwear</td>\n",
       "      <td>15</td>\n",
       "      <td>Free Shipping</td>\n",
       "      <td>Entertainment</td>\n",
       "      <td>Yes</td>\n",
       "      <td>Summer</td>\n",
       "      <td>United States</td>\n",
       "    </tr>\n",
       "  </tbody>\n",
       "</table>\n",
       "</div>"
      ],
      "text/plain": [
       "      CustomerID  Gender  Age Items Purchased  Category  Purchase Amount  \\\n",
       "2000        1996  Female   22           Boots  Footwear               45   \n",
       "2001        1997  Female   22           Boots  Footwear               77   \n",
       "2002        1998    Male   22           Boots  Footwear               50   \n",
       "2003        1999    Male   22           Boots  Footwear               25   \n",
       "2004        2000    Male   22           Boots  Footwear               15   \n",
       "\n",
       "      Shipping Type     Profession Subscription Status  Season        Country  \n",
       "2000        Express         Artist                 Yes  Summer  United States  \n",
       "2001  Free Shipping         Doctor                 Yes  Summer         Brazil  \n",
       "2002   Next Day Air     Healthcare                 Yes  Summer  United States  \n",
       "2003        Express      Executive                 Yes  Summer         Brazil  \n",
       "2004  Free Shipping  Entertainment                 Yes  Summer  United States  "
      ]
     },
     "execution_count": 85,
     "metadata": {},
     "output_type": "execute_result"
    }
   ],
   "source": [
    "data.tail()"
   ]
  },
  {
   "cell_type": "code",
   "execution_count": 86,
   "id": "55c1d51e-a0cd-4d65-833b-b81c0846bbd4",
   "metadata": {},
   "outputs": [
    {
     "data": {
      "text/plain": [
       "Index(['CustomerID', 'Gender', 'Age', 'Items Purchased', 'Category',\n",
       "       'Purchase Amount', 'Shipping Type', 'Profession', 'Subscription Status',\n",
       "       'Season', 'Country'],\n",
       "      dtype='object')"
      ]
     },
     "execution_count": 86,
     "metadata": {},
     "output_type": "execute_result"
    }
   ],
   "source": [
    "data.columns"
   ]
  },
  {
   "cell_type": "code",
   "execution_count": 87,
   "id": "a2cca691-83b7-44ed-9773-0437a93b1bda",
   "metadata": {},
   "outputs": [
    {
     "name": "stdout",
     "output_type": "stream",
     "text": [
      "<class 'pandas.core.frame.DataFrame'>\n",
      "RangeIndex: 2005 entries, 0 to 2004\n",
      "Data columns (total 11 columns):\n",
      " #   Column               Non-Null Count  Dtype \n",
      "---  ------               --------------  ----- \n",
      " 0   CustomerID           2005 non-null   int64 \n",
      " 1   Gender               2005 non-null   object\n",
      " 2   Age                  2005 non-null   int64 \n",
      " 3   Items Purchased      2005 non-null   object\n",
      " 4   Category             2005 non-null   object\n",
      " 5   Purchase Amount      2005 non-null   int64 \n",
      " 6   Shipping Type        2005 non-null   object\n",
      " 7   Profession           1970 non-null   object\n",
      " 8   Subscription Status  2005 non-null   object\n",
      " 9   Season               1976 non-null   object\n",
      " 10  Country              2005 non-null   object\n",
      "dtypes: int64(3), object(8)\n",
      "memory usage: 172.4+ KB\n"
     ]
    }
   ],
   "source": [
    "data.info()"
   ]
  },
  {
   "cell_type": "code",
   "execution_count": 88,
   "id": "e6cca47c-ebc8-43ca-8b46-fc990212495e",
   "metadata": {},
   "outputs": [
    {
     "data": {
      "text/plain": [
       "['CustomerID',\n",
       " 'Gender',\n",
       " 'Age',\n",
       " 'Items Purchased',\n",
       " 'Category',\n",
       " 'Purchase Amount',\n",
       " 'Shipping Type',\n",
       " 'Profession',\n",
       " 'Subscription Status',\n",
       " 'Season',\n",
       " 'Country']"
      ]
     },
     "execution_count": 88,
     "metadata": {},
     "output_type": "execute_result"
    }
   ],
   "source": [
    "column_list = list(data.columns)\n",
    "column_list"
   ]
  },
  {
   "cell_type": "code",
   "execution_count": 89,
   "id": "9a94786d-edd4-4486-a335-e79a4243ea0a",
   "metadata": {},
   "outputs": [
    {
     "data": {
      "text/plain": [
       "CustomerID              0\n",
       "Gender                  0\n",
       "Age                     0\n",
       "Items Purchased         0\n",
       "Category                0\n",
       "Purchase Amount         0\n",
       "Shipping Type           0\n",
       "Profession             35\n",
       "Subscription Status     0\n",
       "Season                 29\n",
       "Country                 0\n",
       "dtype: int64"
      ]
     },
     "execution_count": 89,
     "metadata": {},
     "output_type": "execute_result"
    }
   ],
   "source": [
    "data.isna().sum()"
   ]
  },
  {
   "cell_type": "code",
   "execution_count": 90,
   "id": "4c8f3ac1-cc47-46ea-bb59-c2031e00d233",
   "metadata": {},
   "outputs": [
    {
     "data": {
      "text/html": [
       "<div>\n",
       "<style scoped>\n",
       "    .dataframe tbody tr th:only-of-type {\n",
       "        vertical-align: middle;\n",
       "    }\n",
       "\n",
       "    .dataframe tbody tr th {\n",
       "        vertical-align: top;\n",
       "    }\n",
       "\n",
       "    .dataframe thead th {\n",
       "        text-align: right;\n",
       "    }\n",
       "</style>\n",
       "<table border=\"1\" class=\"dataframe\">\n",
       "  <thead>\n",
       "    <tr style=\"text-align: right;\">\n",
       "      <th></th>\n",
       "      <th>CustomerID</th>\n",
       "      <th>Gender</th>\n",
       "      <th>Age</th>\n",
       "      <th>Items Purchased</th>\n",
       "      <th>Category</th>\n",
       "      <th>Purchase Amount</th>\n",
       "      <th>Shipping Type</th>\n",
       "      <th>Profession</th>\n",
       "      <th>Subscription Status</th>\n",
       "      <th>Season</th>\n",
       "      <th>Country</th>\n",
       "    </tr>\n",
       "  </thead>\n",
       "  <tbody>\n",
       "    <tr>\n",
       "      <th>0</th>\n",
       "      <td>False</td>\n",
       "      <td>False</td>\n",
       "      <td>False</td>\n",
       "      <td>False</td>\n",
       "      <td>False</td>\n",
       "      <td>False</td>\n",
       "      <td>False</td>\n",
       "      <td>False</td>\n",
       "      <td>False</td>\n",
       "      <td>False</td>\n",
       "      <td>False</td>\n",
       "    </tr>\n",
       "    <tr>\n",
       "      <th>1</th>\n",
       "      <td>False</td>\n",
       "      <td>False</td>\n",
       "      <td>False</td>\n",
       "      <td>False</td>\n",
       "      <td>False</td>\n",
       "      <td>False</td>\n",
       "      <td>False</td>\n",
       "      <td>False</td>\n",
       "      <td>False</td>\n",
       "      <td>False</td>\n",
       "      <td>False</td>\n",
       "    </tr>\n",
       "    <tr>\n",
       "      <th>2</th>\n",
       "      <td>False</td>\n",
       "      <td>False</td>\n",
       "      <td>False</td>\n",
       "      <td>False</td>\n",
       "      <td>False</td>\n",
       "      <td>False</td>\n",
       "      <td>False</td>\n",
       "      <td>False</td>\n",
       "      <td>False</td>\n",
       "      <td>False</td>\n",
       "      <td>False</td>\n",
       "    </tr>\n",
       "    <tr>\n",
       "      <th>3</th>\n",
       "      <td>False</td>\n",
       "      <td>False</td>\n",
       "      <td>False</td>\n",
       "      <td>False</td>\n",
       "      <td>False</td>\n",
       "      <td>False</td>\n",
       "      <td>False</td>\n",
       "      <td>False</td>\n",
       "      <td>False</td>\n",
       "      <td>False</td>\n",
       "      <td>False</td>\n",
       "    </tr>\n",
       "    <tr>\n",
       "      <th>4</th>\n",
       "      <td>False</td>\n",
       "      <td>False</td>\n",
       "      <td>False</td>\n",
       "      <td>False</td>\n",
       "      <td>False</td>\n",
       "      <td>False</td>\n",
       "      <td>False</td>\n",
       "      <td>False</td>\n",
       "      <td>False</td>\n",
       "      <td>False</td>\n",
       "      <td>False</td>\n",
       "    </tr>\n",
       "    <tr>\n",
       "      <th>...</th>\n",
       "      <td>...</td>\n",
       "      <td>...</td>\n",
       "      <td>...</td>\n",
       "      <td>...</td>\n",
       "      <td>...</td>\n",
       "      <td>...</td>\n",
       "      <td>...</td>\n",
       "      <td>...</td>\n",
       "      <td>...</td>\n",
       "      <td>...</td>\n",
       "      <td>...</td>\n",
       "    </tr>\n",
       "    <tr>\n",
       "      <th>2000</th>\n",
       "      <td>False</td>\n",
       "      <td>False</td>\n",
       "      <td>False</td>\n",
       "      <td>False</td>\n",
       "      <td>False</td>\n",
       "      <td>False</td>\n",
       "      <td>False</td>\n",
       "      <td>False</td>\n",
       "      <td>False</td>\n",
       "      <td>False</td>\n",
       "      <td>False</td>\n",
       "    </tr>\n",
       "    <tr>\n",
       "      <th>2001</th>\n",
       "      <td>False</td>\n",
       "      <td>False</td>\n",
       "      <td>False</td>\n",
       "      <td>False</td>\n",
       "      <td>False</td>\n",
       "      <td>False</td>\n",
       "      <td>False</td>\n",
       "      <td>False</td>\n",
       "      <td>False</td>\n",
       "      <td>False</td>\n",
       "      <td>False</td>\n",
       "    </tr>\n",
       "    <tr>\n",
       "      <th>2002</th>\n",
       "      <td>False</td>\n",
       "      <td>False</td>\n",
       "      <td>False</td>\n",
       "      <td>False</td>\n",
       "      <td>False</td>\n",
       "      <td>False</td>\n",
       "      <td>False</td>\n",
       "      <td>False</td>\n",
       "      <td>False</td>\n",
       "      <td>False</td>\n",
       "      <td>False</td>\n",
       "    </tr>\n",
       "    <tr>\n",
       "      <th>2003</th>\n",
       "      <td>False</td>\n",
       "      <td>False</td>\n",
       "      <td>False</td>\n",
       "      <td>False</td>\n",
       "      <td>False</td>\n",
       "      <td>False</td>\n",
       "      <td>False</td>\n",
       "      <td>False</td>\n",
       "      <td>False</td>\n",
       "      <td>False</td>\n",
       "      <td>False</td>\n",
       "    </tr>\n",
       "    <tr>\n",
       "      <th>2004</th>\n",
       "      <td>False</td>\n",
       "      <td>False</td>\n",
       "      <td>False</td>\n",
       "      <td>False</td>\n",
       "      <td>False</td>\n",
       "      <td>False</td>\n",
       "      <td>False</td>\n",
       "      <td>False</td>\n",
       "      <td>False</td>\n",
       "      <td>False</td>\n",
       "      <td>False</td>\n",
       "    </tr>\n",
       "  </tbody>\n",
       "</table>\n",
       "<p>2005 rows × 11 columns</p>\n",
       "</div>"
      ],
      "text/plain": [
       "      CustomerID  Gender    Age  Items Purchased  Category  Purchase Amount  \\\n",
       "0          False   False  False            False     False            False   \n",
       "1          False   False  False            False     False            False   \n",
       "2          False   False  False            False     False            False   \n",
       "3          False   False  False            False     False            False   \n",
       "4          False   False  False            False     False            False   \n",
       "...          ...     ...    ...              ...       ...              ...   \n",
       "2000       False   False  False            False     False            False   \n",
       "2001       False   False  False            False     False            False   \n",
       "2002       False   False  False            False     False            False   \n",
       "2003       False   False  False            False     False            False   \n",
       "2004       False   False  False            False     False            False   \n",
       "\n",
       "      Shipping Type  Profession  Subscription Status  Season  Country  \n",
       "0             False       False                False   False    False  \n",
       "1             False       False                False   False    False  \n",
       "2             False       False                False   False    False  \n",
       "3             False       False                False   False    False  \n",
       "4             False       False                False   False    False  \n",
       "...             ...         ...                  ...     ...      ...  \n",
       "2000          False       False                False   False    False  \n",
       "2001          False       False                False   False    False  \n",
       "2002          False       False                False   False    False  \n",
       "2003          False       False                False   False    False  \n",
       "2004          False       False                False   False    False  \n",
       "\n",
       "[2005 rows x 11 columns]"
      ]
     },
     "execution_count": 90,
     "metadata": {},
     "output_type": "execute_result"
    }
   ],
   "source": [
    "data.isna()"
   ]
  },
  {
   "cell_type": "code",
   "execution_count": 91,
   "id": "4e5f7b96-65db-4801-beee-80e463e06992",
   "metadata": {},
   "outputs": [
    {
     "data": {
      "text/html": [
       "<div>\n",
       "<style scoped>\n",
       "    .dataframe tbody tr th:only-of-type {\n",
       "        vertical-align: middle;\n",
       "    }\n",
       "\n",
       "    .dataframe tbody tr th {\n",
       "        vertical-align: top;\n",
       "    }\n",
       "\n",
       "    .dataframe thead th {\n",
       "        text-align: right;\n",
       "    }\n",
       "</style>\n",
       "<table border=\"1\" class=\"dataframe\">\n",
       "  <thead>\n",
       "    <tr style=\"text-align: right;\">\n",
       "      <th></th>\n",
       "      <th>Season</th>\n",
       "      <th>Country</th>\n",
       "    </tr>\n",
       "  </thead>\n",
       "  <tbody>\n",
       "    <tr>\n",
       "      <th>0</th>\n",
       "      <td>Spring</td>\n",
       "      <td>United States</td>\n",
       "    </tr>\n",
       "    <tr>\n",
       "      <th>1</th>\n",
       "      <td>Summer</td>\n",
       "      <td>United States</td>\n",
       "    </tr>\n",
       "    <tr>\n",
       "      <th>2</th>\n",
       "      <td>Fall</td>\n",
       "      <td>United States</td>\n",
       "    </tr>\n",
       "    <tr>\n",
       "      <th>3</th>\n",
       "      <td>Winter</td>\n",
       "      <td>United States</td>\n",
       "    </tr>\n",
       "    <tr>\n",
       "      <th>4</th>\n",
       "      <td>Winter</td>\n",
       "      <td>United States</td>\n",
       "    </tr>\n",
       "    <tr>\n",
       "      <th>...</th>\n",
       "      <td>...</td>\n",
       "      <td>...</td>\n",
       "    </tr>\n",
       "    <tr>\n",
       "      <th>2000</th>\n",
       "      <td>Summer</td>\n",
       "      <td>United States</td>\n",
       "    </tr>\n",
       "    <tr>\n",
       "      <th>2001</th>\n",
       "      <td>Summer</td>\n",
       "      <td>Brazil</td>\n",
       "    </tr>\n",
       "    <tr>\n",
       "      <th>2002</th>\n",
       "      <td>Summer</td>\n",
       "      <td>United States</td>\n",
       "    </tr>\n",
       "    <tr>\n",
       "      <th>2003</th>\n",
       "      <td>Summer</td>\n",
       "      <td>Brazil</td>\n",
       "    </tr>\n",
       "    <tr>\n",
       "      <th>2004</th>\n",
       "      <td>Summer</td>\n",
       "      <td>United States</td>\n",
       "    </tr>\n",
       "  </tbody>\n",
       "</table>\n",
       "<p>2005 rows × 2 columns</p>\n",
       "</div>"
      ],
      "text/plain": [
       "      Season        Country\n",
       "0     Spring  United States\n",
       "1     Summer  United States\n",
       "2       Fall  United States\n",
       "3     Winter  United States\n",
       "4     Winter  United States\n",
       "...      ...            ...\n",
       "2000  Summer  United States\n",
       "2001  Summer         Brazil\n",
       "2002  Summer  United States\n",
       "2003  Summer         Brazil\n",
       "2004  Summer  United States\n",
       "\n",
       "[2005 rows x 2 columns]"
      ]
     },
     "execution_count": 91,
     "metadata": {},
     "output_type": "execute_result"
    }
   ],
   "source": [
    "data[[\"Season\",\"Country\"]]"
   ]
  },
  {
   "cell_type": "code",
   "execution_count": 117,
   "id": "fbf7458c-2b56-4f5c-94f4-25c4bcb75938",
   "metadata": {},
   "outputs": [],
   "source": [
    "data[\"Age Group\"] = pd.cut(data[\"Age\"], bins=[0, 18, 25, 35, 45, 55, 65, float(\"inf\")],\n",
    "                           labels=[\"Under 18\", \"19-24\", \"25-34\", \"35-44\", \"45-54\", \"55-64\", \"65+\"],\n",
    "                           include_lowest=True)"
   ]
  },
  {
   "cell_type": "code",
   "execution_count": 94,
   "id": "3380e4eb-c832-43cf-8d3f-14617f524194",
   "metadata": {},
   "outputs": [
    {
     "data": {
      "text/plain": [
       "5"
      ]
     },
     "execution_count": 94,
     "metadata": {},
     "output_type": "execute_result"
    }
   ],
   "source": [
    "data.duplicated('CustomerID').sum()"
   ]
  },
  {
   "cell_type": "code",
   "execution_count": 95,
   "id": "c38fd86f-fe49-4255-bd27-eb83e9c24ba8",
   "metadata": {},
   "outputs": [
    {
     "data": {
      "text/html": [
       "<div>\n",
       "<style scoped>\n",
       "    .dataframe tbody tr th:only-of-type {\n",
       "        vertical-align: middle;\n",
       "    }\n",
       "\n",
       "    .dataframe tbody tr th {\n",
       "        vertical-align: top;\n",
       "    }\n",
       "\n",
       "    .dataframe thead th {\n",
       "        text-align: right;\n",
       "    }\n",
       "</style>\n",
       "<table border=\"1\" class=\"dataframe\">\n",
       "  <thead>\n",
       "    <tr style=\"text-align: right;\">\n",
       "      <th></th>\n",
       "      <th>CustomerID</th>\n",
       "      <th>Age</th>\n",
       "      <th>Purchase Amount</th>\n",
       "    </tr>\n",
       "  </thead>\n",
       "  <tbody>\n",
       "    <tr>\n",
       "      <th>count</th>\n",
       "      <td>2005.000000</td>\n",
       "      <td>2005.000000</td>\n",
       "      <td>2005.000000</td>\n",
       "    </tr>\n",
       "    <tr>\n",
       "      <th>mean</th>\n",
       "      <td>998.214464</td>\n",
       "      <td>29.428928</td>\n",
       "      <td>52.585536</td>\n",
       "    </tr>\n",
       "    <tr>\n",
       "      <th>std</th>\n",
       "      <td>578.587377</td>\n",
       "      <td>13.050744</td>\n",
       "      <td>29.334591</td>\n",
       "    </tr>\n",
       "    <tr>\n",
       "      <th>min</th>\n",
       "      <td>1.000000</td>\n",
       "      <td>18.000000</td>\n",
       "      <td>12.000000</td>\n",
       "    </tr>\n",
       "    <tr>\n",
       "      <th>25%</th>\n",
       "      <td>497.000000</td>\n",
       "      <td>22.000000</td>\n",
       "      <td>23.000000</td>\n",
       "    </tr>\n",
       "    <tr>\n",
       "      <th>50%</th>\n",
       "      <td>998.000000</td>\n",
       "      <td>22.000000</td>\n",
       "      <td>50.000000</td>\n",
       "    </tr>\n",
       "    <tr>\n",
       "      <th>75%</th>\n",
       "      <td>1499.000000</td>\n",
       "      <td>33.000000</td>\n",
       "      <td>77.000000</td>\n",
       "    </tr>\n",
       "    <tr>\n",
       "      <th>max</th>\n",
       "      <td>2000.000000</td>\n",
       "      <td>74.000000</td>\n",
       "      <td>100.000000</td>\n",
       "    </tr>\n",
       "  </tbody>\n",
       "</table>\n",
       "</div>"
      ],
      "text/plain": [
       "        CustomerID          Age  Purchase Amount\n",
       "count  2005.000000  2005.000000      2005.000000\n",
       "mean    998.214464    29.428928        52.585536\n",
       "std     578.587377    13.050744        29.334591\n",
       "min       1.000000    18.000000        12.000000\n",
       "25%     497.000000    22.000000        23.000000\n",
       "50%     998.000000    22.000000        50.000000\n",
       "75%    1499.000000    33.000000        77.000000\n",
       "max    2000.000000    74.000000       100.000000"
      ]
     },
     "execution_count": 95,
     "metadata": {},
     "output_type": "execute_result"
    }
   ],
   "source": [
    "data.describe()"
   ]
  },
  {
   "cell_type": "markdown",
   "id": "048d308f-2325-46c1-9df5-ea9965fdd267",
   "metadata": {},
   "source": [
    "# Visualizations"
   ]
  },
  {
   "cell_type": "code",
   "execution_count": 96,
   "id": "ee3b4bce-5f30-45bb-ac29-6e13afa6dd46",
   "metadata": {},
   "outputs": [],
   "source": [
    "import seaborn as sns"
   ]
  },
  {
   "cell_type": "code",
   "execution_count": 97,
   "id": "45a57a56-e233-460d-8a8f-f8704936eebb",
   "metadata": {},
   "outputs": [],
   "source": [
    "import matplotlib.pyplot as plt"
   ]
  },
  {
   "cell_type": "code",
   "execution_count": 98,
   "id": "b025dcfe-193a-411c-b1bf-111b4b13b08b",
   "metadata": {},
   "outputs": [
    {
     "data": {
      "text/plain": [
       "Text(0.5, 1.0, 'Customer Spending')"
      ]
     },
     "execution_count": 98,
     "metadata": {},
     "output_type": "execute_result"
    },
    {
     "data": {
      "image/png": "[encoded data removed]",
      "text/plain": [
       "<Figure size 600x400 with 1 Axes>"
      ]
     },
     "metadata": {},
     "output_type": "display_data"
    }
   ],
   "source": [
    "sns.set_style(\"darkgrid\")\n",
    "plt.figure(figsize=(6,4))\n",
    "plt.pie(data[\"Gender\"].value_counts(), labels = data [\"Gender\"].value_counts().index, autopct = '%1.1f%%')\n",
    "plt.title(\"Customer Spending\")"
   ]
  },
  {
   "cell_type": "code",
   "execution_count": 99,
   "id": "dc8562db-854a-4512-ac67-63b209efe733",
   "metadata": {},
   "outputs": [
    {
     "data": {
      "image/png": "[encoded data removed]",
      "text/plain": [
       "<Figure size 1000x600 with 1 Axes>"
      ]
     },
     "metadata": {},
     "output_type": "display_data"
    }
   ],
   "source": [
    "Items_counts = data[\"Items Purchased\"].value_counts()\n",
    "\n",
    "plt.figure(figsize=(10, 6))\n",
    "Items_counts.plot(kind=\"bar\", color=\"skyblue\")\n",
    "plt.title(\"Items Purchased Distribution\")\n",
    "plt.xlabel(\"Item Purchased\")\n",
    "plt.ylabel(\"count\")\n",
    "plt.xticks(rotation=45, ha=\"right\")\n",
    "plt.show()"
   ]
  },
  {
   "cell_type": "code",
   "execution_count": 100,
   "id": "d8364afd-f5e5-4fcc-bd1c-ea490205cd59",
   "metadata": {},
   "outputs": [
    {
     "data": {
      "text/plain": [
       "(array([0, 1, 2, 3]),\n",
       " [Text(0, 0, 'Clothing'),\n",
       "  Text(1, 0, 'Footwear'),\n",
       "  Text(2, 0, 'Outerwear'),\n",
       "  Text(3, 0, 'Accessories')])"
      ]
     },
     "execution_count": 100,
     "metadata": {},
     "output_type": "execute_result"
    },
    {
     "data": {
      "image/png": "[encoded data removed]",
      "text/plain": [
       "<Figure size 1000x600 with 1 Axes>"
      ]
     },
     "metadata": {},
     "output_type": "display_data"
    }
   ],
   "source": [
    "category_counts = data[\"Category\"].value_counts()\n",
    "\n",
    "plt.figure(figsize=(10, 6))\n",
    "bars = category_counts.plot(kind=\"bar\", color=\"blue\")\n",
    "\n",
    "for bar, count in zip(bars.patches, category_counts):\n",
    "    plt.text(bar.get_x() + bar.get_width() / 2 + 0.1, bar.get_height() + 0.05, str(count), fontsize=10)\n",
    "plt.title(\"Categroy Distribution\")\n",
    "plt.xlabel(\"Categroy\")\n",
    "plt.ylabel(\"count\")\n",
    "plt.xticks(rotation=45, ha=\"right\")"
   ]
  },
  {
   "cell_type": "code",
   "execution_count": 101,
   "id": "5fc8f727-9529-45d4-bfc7-e2dd1c5d799f",
   "metadata": {},
   "outputs": [
    {
     "data": {
      "image/png": "[encoded data removed]",
      "text/plain": [
       "<Figure size 600x800 with 1 Axes>"
      ]
     },
     "metadata": {},
     "output_type": "display_data"
    }
   ],
   "source": [
    "season_counts = data[\"Season\"].value_counts()\n",
    "\n",
    "plt.figure(figsize=(6, 8))\n",
    "plt.pie(season_counts,labels=season_counts.index, autopct=\"%1.1f%%\", colors=[\"red\", \"green\", \"orange\", \"blue\"],startangle=90)\n",
    "plt.title(\"Season Distribution\")\n",
    "plt.axis(\"equal\")\n",
    "\n",
    "plt.show()"
   ]
  },
  {
   "cell_type": "code",
   "execution_count": 115,
   "id": "71965aca-f829-4c90-bbff-0ad97be7efc1",
   "metadata": {},
   "outputs": [
    {
     "ename": "NameError",
     "evalue": "name 'age_group' is not defined",
     "output_type": "error",
     "traceback": [
      "\u001b[1;31m---------------------------------------------------------------------------\u001b[0m",
      "\u001b[1;31mNameError\u001b[0m                                 Traceback (most recent call last)",
      "Cell \u001b[1;32mIn[115], line 4\u001b[0m\n\u001b[0;32m      1\u001b[0m Age_Group \u001b[38;5;241m=\u001b[39m data[\u001b[38;5;124m\"\u001b[39m\u001b[38;5;124mAge Group\u001b[39m\u001b[38;5;124m\"\u001b[39m]\u001b[38;5;241m.\u001b[39mvalue_counts()\n\u001b[0;32m      3\u001b[0m plt\u001b[38;5;241m.\u001b[39mfigure(figsize\u001b[38;5;241m=\u001b[39m(\u001b[38;5;241m10\u001b[39m, \u001b[38;5;241m6\u001b[39m))\n\u001b[1;32m----> 4\u001b[0m bars \u001b[38;5;241m=\u001b[39m age_group\u001b[38;5;241m.\u001b[39mplot(kind\u001b[38;5;241m=\u001b[39m\u001b[38;5;124m\"\u001b[39m\u001b[38;5;124mbar\u001b[39m\u001b[38;5;124m\"\u001b[39m, color\u001b[38;5;241m=\u001b[39m\u001b[38;5;124m\"\u001b[39m\u001b[38;5;124morange\u001b[39m\u001b[38;5;124m\"\u001b[39m)\n\u001b[0;32m      6\u001b[0m \u001b[38;5;28;01mfor\u001b[39;00m bar, count \u001b[38;5;129;01min\u001b[39;00m \u001b[38;5;28mzip\u001b[39m(bars\u001b[38;5;241m.\u001b[39mpatches, age_group):\n\u001b[0;32m      7\u001b[0m     plt\u001b[38;5;241m.\u001b[39mtext(bar\u001b[38;5;241m.\u001b[39mget_x() \u001b[38;5;241m+\u001b[39m bar\u001b[38;5;241m.\u001b[39mget_width() \u001b[38;5;241m/\u001b[39m \u001b[38;5;241m2\u001b[39m \u001b[38;5;241m+\u001b[39m \u001b[38;5;241m0.05\u001b[39m, srt(count), fontsize\u001b[38;5;241m=\u001b[39m\u001b[38;5;241m10\u001b[39m)\n",
      "\u001b[1;31mNameError\u001b[0m: name 'age_group' is not defined"
     ]
    },
    {
     "data": {
      "text/plain": [
       "<Figure size 1000x600 with 0 Axes>"
      ]
     },
     "metadata": {},
     "output_type": "display_data"
    }
   ],
   "source": [
    "Age_Group = data[\"Age Group\"].value_counts()\n",
    "\n",
    "plt.figure(figsize=(10, 6))\n",
    "bars = age_group.plot(kind=\"bar\", color=\"orange\")\n",
    "\n",
    "for bar, count in zip(bars.patches, age_group):\n",
    "    plt.text(bar.get_x() + bar.get_width() / 2 + 0.05, srt(count), fontsize=10)\n",
    "plt.title(\"Age Group Distribution\")\n",
    "plt.xlabel(\"Age Group\")\n",
    "plt.ylabel(\"count\")\n",
    "plt.xticks(rotation=45, ha=\"right\")\n",
    "plt.show()"
   ]
  },
  {
   "cell_type": "code",
   "execution_count": 114,
   "id": "5161605e-5e7d-4a0e-8afe-d626a7fbb894",
   "metadata": {},
   "outputs": [
    {
     "name": "stderr",
     "output_type": "stream",
     "text": [
      "C:\\Users\\user\\AppData\\Local\\Temp\\ipykernel_16832\\2978503675.py:1: FutureWarning: The default value of observed=False is deprecated and will change to observed=True in a future version of pandas. Specify observed=False to silence this warning and retain the current behavior\n",
      "  pivot_data = data.pivot_table(index=\"Age Group\", columns=\"Gender\", aggfunc=\"size\",fill_value=0)\n"
     ]
    },
    {
     "data": {
      "image/png": "[encoded data removed]",
      "text/plain": [
       "<Figure size 1000x600 with 1 Axes>"
      ]
     },
     "metadata": {},
     "output_type": "display_data"
    }
   ],
   "source": [
    "pivot_data = data.pivot_table(index=\"Age Group\", columns=\"Gender\", aggfunc=\"size\",fill_value=0)\n",
    "\n",
    "ax = pivot_data.plot(kind=\"bar\", color=[\"skyblue\", \"lightcoral\"], figsize=(10, 6))\n",
    "\n",
    "ax.set_title(\"Age Group Distribution Based on Gender\")\n",
    "ax.set_xlabel(\"Age Group\")\n",
    "ax.set_ylabel(\"count\")\n",
    "ax.legend(title=\"Gender\")\n",
    "\n",
    "plt.show()"
   ]
  },
  {
   "cell_type": "code",
   "execution_count": null,
   "id": "520786df-8a03-4e84-89e2-0ff8ee11d26b",
   "metadata": {},
   "outputs": [],
   "source": []
  },
  {
   "cell_type": "code",
   "execution_count": null,
   "id": "2fde6306-99c1-4aae-b83c-25a174138d0c",
   "metadata": {},
   "outputs": [],
   "source": []
  },
  {
   "cell_type": "code",
   "execution_count": null,
   "id": "4eb1c55f-efa7-4f5d-8dbf-b8796ff64790",
   "metadata": {},
   "outputs": [],
   "source": []
  }
 ],
 "metadata": {
  "kernelspec": {
   "display_name": "Python 3 (ipykernel)",
   "language": "python",
   "name": "python3"
  },
  "language_info": {
   "codemirror_mode": {
    "name": "ipython",
    "version": 3
   },
   "file_extension": ".py",
   "mimetype": "text/x-python",
   "name": "python",
   "nbconvert_exporter": "python",
   "pygments_lexer": "ipython3",
   "version": "3.12.7"
  }
 },
 "nbformat": 4,
 "nbformat_minor": 5
}
